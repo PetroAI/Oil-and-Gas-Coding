{
 "cells": [
  {
   "cell_type": "markdown",
   "metadata": {},
   "source": [
    "# Hall and Yarborough Correlation "
   ]
  },
  {
   "cell_type": "markdown",
   "metadata": {},
   "source": [
    "## Determination of Z Factor in One Step "
   ]
  },
  {
   "cell_type": "code",
   "execution_count": 68,
   "metadata": {},
   "outputs": [],
   "source": [
    "import pandas as pd\n",
    "import numpy as np \n",
    "import matplotlib.pyplot as plt \n",
    "import math \n"
   ]
  },
  {
   "cell_type": "code",
   "execution_count": 69,
   "metadata": {},
   "outputs": [],
   "source": [
    "#Hall and Yarborough, 1973 presented a more accurate correlation to estimate the Z factor of natural gas.'\n",
    "#Calculates the zFactor of a gas using the Carr method'\n",
    "#Source: Petroleum Production Engineering: A Computer Assisted Approach p. 2/24'\n",
    "#Author: Brandon Tolbert"
   ]
  },
  {
   "cell_type": "code",
   "execution_count": 70,
   "metadata": {},
   "outputs": [],
   "source": [
    "def zFactorHallAndYarborough(temp, Pressure, SG, n2MolFraction, cO2MolFraction, h2SMolFraction):\n",
    "    #temperature deg F\n",
    "    #pressure, psia\n",
    "    #specificGravity\n",
    "    #n2MolFraction, decimal\n",
    "    #cO2MolFraction, decimal\n",
    "    #h2SMolFraction, decimal\n",
    "\n",
    "    pRP = psuedoReducedPressure(Pressure, SG, n2MolFraction, cO2MolFraction, h2SMolFraction)\n",
    "    \n",
    "    pRT = psuedoReducedTemperature(temp, SG, n2MolFraction, cO2MolFraction, h2SMolFraction)\n",
    "\n",
    "    tr = trCalc(pRT) \n",
    "\n",
    "    return_value = zFactor(tr, pRP)\n",
    "    return return_value\n",
    "\n",
    "def psuedoReducedPressure(Pressure, SG, n2MolFraction, cO2MolFraction, h2SMolFraction):\n",
    "    psuedoCriticalPressure = 678 - 50 *  ( SG - 0.5 )  - 206.7 * n2MolFraction + 440 * cO2MolFraction + 606.7 * h2SMolFraction\n",
    "    \n",
    "    return_value = Pressure / psuedoCriticalPressure\n",
    "    return return_value\n",
    "\n",
    "def psuedoReducedTemperature(temp, SG, n2MolFraction, cO2MolFraction, h2SMolFraction):\n",
    "    psuedcrticalTemperature = 326 + 315.7 *  ( SG - 0.5 )  - 240 * n2MolFraction - 83.3 * cO2MolFraction + 133.3 * h2SMolFraction\n",
    "    \n",
    "    return_value = ( temp + 460 )  / psuedcrticalTemperature\n",
    "    return return_value\n",
    "\n",
    "def trm(psuedoReducedTemperature):\n",
    "    return_value = 1 / psuedoReducedTemperature\n",
    "    return return_value\n",
    "\n",
    "def zFactor(tr, psuedoReducedPressure):\n",
    "    a = 0.06125 * tr * math.exp(- 1.2 *  (( 1 - tr )  ** 2))\n",
    "    b = tr *  ( 14.76 - 9.76 * tr + 4.58 * (tr ** 2) )\n",
    "    c = tr *  ( 90.7 - 242.2 * tr + 42.4 * (tr ** 2) )\n",
    "    D = 2.18 + 2.82 * tr\n",
    "    yi = 0\n",
    "    #Newton Raphson method to find root of f(y)\n",
    "    for counter in range(1, 1000):\n",
    "        y = yi -  ( f(yi, a, b, c, D, psuedoReducedPressure) / df(yi, a, b, c, D) )\n",
    "        #exit if loop is terminated\n",
    "        if abs(( y - yi ) / y) < 0.0005 :\n",
    "            break\n",
    "        #old value is set to new value\n",
    "        yi = y\n",
    "    #Return the z Factor\n",
    "    return_value = a * psuedoReducedPressure / y\n",
    "    return return_value\n",
    "\n",
    "def f(y, a, b, c, D, psuedoReducedPressure):\n",
    "    return_value = ( ( y + (y ** 2) + (y ** 3) - (y ** 4) )  /  ( (( 1 - y )  ** 3) ) )  - ((a * psuedoReducedPressure) - (b * (y ** 2) + c * (y ** D)))\n",
    "    return return_value\n",
    "\n",
    "def df(y, a, b, c, D):\n",
    "    return_value = ( ( 1 + 4 * y + 4 * (y ** 2) - 4 * (y ** 3) + (y ** 4) )  /  ( (( 1 - y )  ** 4) ) )  - (2 * b * y + c * D * (y **  ( D - 1 )))\n",
    "    return return_value\n",
    "\n"
   ]
  },
  {
   "cell_type": "code",
   "execution_count": 71,
   "metadata": {},
   "outputs": [
    {
     "data": {
      "text/plain": [
       "0.9894338146348086"
      ]
     },
     "execution_count": 71,
     "metadata": {},
     "output_type": "execute_result"
    }
   ],
   "source": [
    "zFactorHallAndYarborough(180,5000,0.65,0.1,0.08,0.02)\n",
    "\n",
    "#Numerical on page 2/25 "
   ]
  }
 ],
 "metadata": {
  "kernelspec": {
   "display_name": "Python 3",
   "language": "python",
   "name": "python3"
  },
  "language_info": {
   "codemirror_mode": {
    "name": "ipython",
    "version": 3
   },
   "file_extension": ".py",
   "mimetype": "text/x-python",
   "name": "python",
   "nbconvert_exporter": "python",
   "pygments_lexer": "ipython3",
   "version": "3.7.4"
  }
 },
 "nbformat": 4,
 "nbformat_minor": 4
}
