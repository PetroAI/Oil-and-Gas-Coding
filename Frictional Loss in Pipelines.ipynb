{
 "cells": [
  {
   "cell_type": "markdown",
   "metadata": {},
   "source": [
    "### Calculation of Frictional Loss in Pipelines"
   ]
  },
  {
   "cell_type": "markdown",
   "metadata": {},
   "source": [
    "It is to be noted that this frictional loss in pipeline is calcualted for single phase incompressible flow. "
   ]
  },
  {
   "cell_type": "code",
   "execution_count": 18,
   "metadata": {},
   "outputs": [],
   "source": [
    "import math"
   ]
  },
  {
   "cell_type": "code",
   "execution_count": 7,
   "metadata": {},
   "outputs": [],
   "source": [
    "# given data \n",
    "Q=1000 #bbl/day \n",
    "Dia=2.259 #inch\n",
    "SG=1.05\n",
    "vis=1.2 #cp\n",
    "e=0.0018 #inch\n",
    "l=1000 #feet"
   ]
  },
  {
   "cell_type": "code",
   "execution_count": 19,
   "metadata": {},
   "outputs": [],
   "source": [
    "\"\"\"Gives the pressure gradient in psi/ft in a pipeline (Oil and Gas Units) using Reynolds number for pipeline flow & Friction Factor\"\"\"\n",
    "\n",
    "\n",
    "def PressureLossgradbbl(Q, Dia, SG, vis, e):\n",
    "    #Q: flow rate, bbl/day\n",
    "    #Dia: pipeline diameter, in\n",
    "    #SG: specific gravity\n",
    "    #vis: viscosity, sp\n",
    "    #e: roughness, in\n",
    "    g = 32.2\n",
    "    A = (math.pi/ 4) * (Dia ** 2)\n",
    "    Re = Reynoldsbbl(SG, Q, Dia, vis)\n",
    "    f = FrictionFactor(Re, e, Dia)\n",
    "    #Darcy Weasback Equation in psi/ft\n",
    "    return_value = 0.433 * SG *  ( 0.00105 )  * f *  ( 1 / Dia )  *  ( ( Q / A )  ** 2 )  /  ( 2 * g )\n",
    "    return return_value\n",
    "\n",
    "def Reynoldsbbl(SG, Q, Dia, vis):\n",
    "    #SG: Specific Gravity\n",
    "    #Q: Flow rate,(bbl/day)\n",
    "    #Dia: Diameter, in\n",
    "    #vis: viscosity, cp\n",
    "    return_value = 92.35 *  ( SG * Q )  /  ( Dia * vis )\n",
    "    return return_value\n",
    "\n",
    "def FrictionFactor(Re, e, Dia):\n",
    "    #Re: Reynolds Number\n",
    "    #e: roughness, in\n",
    "    \n",
    "    if Re < 2100:\n",
    "        return_value = 64 / Re\n",
    "    else:\n",
    "        A = e /  ( 3.7 * Dia )\n",
    "        b = 5.74 /  ( Re ** 0.9 )\n",
    "        return_value = 0.25 /  ( math.log10(A + b) ** 2 )\n",
    "    return return_value\n",
    "\n"
   ]
  },
  {
   "cell_type": "code",
   "execution_count": 20,
   "metadata": {},
   "outputs": [
    {
     "data": {
      "text/plain": [
       "0.005076168839827128"
      ]
     },
     "execution_count": 20,
     "metadata": {},
     "output_type": "execute_result"
    }
   ],
   "source": [
    "PressureLossgradbbl(Q,Dia,SG,vis,e)"
   ]
  }
 ],
 "metadata": {
  "kernelspec": {
   "display_name": "Python 3",
   "language": "python",
   "name": "python3"
  },
  "language_info": {
   "codemirror_mode": {
    "name": "ipython",
    "version": 3
   },
   "file_extension": ".py",
   "mimetype": "text/x-python",
   "name": "python",
   "nbconvert_exporter": "python",
   "pygments_lexer": "ipython3",
   "version": "3.7.4"
  }
 },
 "nbformat": 4,
 "nbformat_minor": 4
}
